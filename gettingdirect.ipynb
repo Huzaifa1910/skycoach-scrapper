{
 "cells": [
  {
   "cell_type": "markdown",
   "id": "34a943ee",
   "metadata": {},
   "source": [
    "#### skycoach data direect"
   ]
  },
  {
   "cell_type": "code",
   "execution_count": 4,
   "id": "fec574b4",
   "metadata": {},
   "outputs": [
    {
     "ename": "Error",
     "evalue": "It looks like you are using Playwright Sync API inside the asyncio loop.\nPlease use the Async API instead.",
     "output_type": "error",
     "traceback": [
      "\u001b[31m---------------------------------------------------------------------------\u001b[39m",
      "\u001b[31mError\u001b[39m                                     Traceback (most recent call last)",
      "\u001b[36mCell\u001b[39m\u001b[36m \u001b[39m\u001b[32mIn[4]\u001b[39m\u001b[32m, line 68\u001b[39m\n\u001b[32m     65\u001b[39m     \u001b[38;5;28;01mreturn\u001b[39;00m best\n\u001b[32m     67\u001b[39m \u001b[38;5;28;01mif\u001b[39;00m \u001b[34m__name__\u001b[39m == \u001b[33m\"\u001b[39m\u001b[33m__main__\u001b[39m\u001b[33m\"\u001b[39m:\n\u001b[32m---> \u001b[39m\u001b[32m68\u001b[39m     blobs = \u001b[43msniff_product\u001b[49m\u001b[43m(\u001b[49m\u001b[43mURL\u001b[49m\u001b[43m)\u001b[49m\n\u001b[32m     69\u001b[39m     \u001b[38;5;28;01mif\u001b[39;00m \u001b[38;5;129;01mnot\u001b[39;00m blobs:\n\u001b[32m     70\u001b[39m         \u001b[38;5;28;01mraise\u001b[39;00m \u001b[38;5;167;01mRuntimeError\u001b[39;00m(\u001b[33m\"\u001b[39m\u001b[33mNo JSON captured.\u001b[39m\u001b[33m\"\u001b[39m)\n",
      "\u001b[36mCell\u001b[39m\u001b[36m \u001b[39m\u001b[32mIn[4]\u001b[39m\u001b[32m, line 12\u001b[39m, in \u001b[36msniff_product\u001b[39m\u001b[34m(url)\u001b[39m\n\u001b[32m      9\u001b[39m \u001b[38;5;28;01mdef\u001b[39;00m\u001b[38;5;250m \u001b[39m\u001b[34msniff_product\u001b[39m(url):\n\u001b[32m     10\u001b[39m     blobs = []\n\u001b[32m---> \u001b[39m\u001b[32m12\u001b[39m \u001b[43m    \u001b[49m\u001b[38;5;28;43;01mwith\u001b[39;49;00m\u001b[43m \u001b[49m\u001b[43msync_playwright\u001b[49m\u001b[43m(\u001b[49m\u001b[43m)\u001b[49m\u001b[43m \u001b[49m\u001b[38;5;28;43;01mas\u001b[39;49;00m\u001b[43m \u001b[49m\u001b[43mp\u001b[49m\u001b[43m:\u001b[49m\n\u001b[32m     13\u001b[39m \u001b[43m        \u001b[49m\u001b[43mbrowser\u001b[49m\u001b[43m \u001b[49m\u001b[43m=\u001b[49m\u001b[43m \u001b[49m\u001b[43mp\u001b[49m\u001b[43m.\u001b[49m\u001b[43mchromium\u001b[49m\u001b[43m.\u001b[49m\u001b[43mlaunch\u001b[49m\u001b[43m(\u001b[49m\u001b[43mheadless\u001b[49m\u001b[43m=\u001b[49m\u001b[38;5;28;43;01mTrue\u001b[39;49;00m\u001b[43m,\u001b[49m\u001b[43m \u001b[49m\u001b[43margs\u001b[49m\u001b[43m=\u001b[49m\u001b[43m[\u001b[49m\u001b[33;43m\"\u001b[39;49m\u001b[33;43m--disable-blink-features=AutomationControlled\u001b[39;49m\u001b[33;43m\"\u001b[39;49m\u001b[43m]\u001b[49m\u001b[43m)\u001b[49m\n\u001b[32m     14\u001b[39m \u001b[43m        \u001b[49m\u001b[43mctx\u001b[49m\u001b[43m \u001b[49m\u001b[43m=\u001b[49m\u001b[43m \u001b[49m\u001b[43mbrowser\u001b[49m\u001b[43m.\u001b[49m\u001b[43mnew_context\u001b[49m\u001b[43m(\u001b[49m\n\u001b[32m     15\u001b[39m \u001b[43m            \u001b[49m\u001b[43muser_agent\u001b[49m\u001b[43m=\u001b[49m\u001b[43m(\u001b[49m\u001b[33;43m\"\u001b[39;49m\u001b[33;43mMozilla/5.0 (Windows NT 10.0; Win64; x64) \u001b[39;49m\u001b[33;43m\"\u001b[39;49m\n\u001b[32m     16\u001b[39m \u001b[43m                        \u001b[49m\u001b[33;43m\"\u001b[39;49m\u001b[33;43mAppleWebKit/537.36 (KHTML, like Gecko) \u001b[39;49m\u001b[33;43m\"\u001b[39;49m\n\u001b[32m   (...)\u001b[39m\u001b[32m     19\u001b[39m \u001b[43m            \u001b[49m\u001b[43mtimezone_id\u001b[49m\u001b[43m=\u001b[49m\u001b[33;43m\"\u001b[39;49m\u001b[33;43mEurope/London\u001b[39;49m\u001b[33;43m\"\u001b[39;49m\u001b[43m,\u001b[49m\n\u001b[32m     20\u001b[39m \u001b[43m        \u001b[49m\u001b[43m)\u001b[49m\n",
      "\u001b[36mFile \u001b[39m\u001b[32m~/arshadmehmoodi/skycoach-scrapper/venv/lib/python3.11/site-packages/playwright/sync_api/_context_manager.py:47\u001b[39m, in \u001b[36mPlaywrightContextManager.__enter__\u001b[39m\u001b[34m(self)\u001b[39m\n\u001b[32m     45\u001b[39m             \u001b[38;5;28mself\u001b[39m._own_loop = \u001b[38;5;28;01mTrue\u001b[39;00m\n\u001b[32m     46\u001b[39m         \u001b[38;5;28;01mif\u001b[39;00m \u001b[38;5;28mself\u001b[39m._loop.is_running():\n\u001b[32m---> \u001b[39m\u001b[32m47\u001b[39m             \u001b[38;5;28;01mraise\u001b[39;00m Error(\n\u001b[32m     48\u001b[39m \u001b[38;5;250m                \u001b[39m\u001b[33;03m\"\"\"It looks like you are using Playwright Sync API inside the asyncio loop.\u001b[39;00m\n\u001b[32m     49\u001b[39m \u001b[33;03mPlease use the Async API instead.\"\"\"\u001b[39;00m\n\u001b[32m     50\u001b[39m             )\n\u001b[32m     52\u001b[39m         \u001b[38;5;66;03m# Create a new fiber for the protocol dispatcher. It will be pumping events\u001b[39;00m\n\u001b[32m     53\u001b[39m         \u001b[38;5;66;03m# until the end of times. We will pass control to that fiber every time we\u001b[39;00m\n\u001b[32m     54\u001b[39m         \u001b[38;5;66;03m# block while waiting for a response.\u001b[39;00m\n\u001b[32m     55\u001b[39m         \u001b[38;5;28;01mdef\u001b[39;00m\u001b[38;5;250m \u001b[39m\u001b[34mgreenlet_main\u001b[39m() -> \u001b[38;5;28;01mNone\u001b[39;00m:\n",
      "\u001b[31mError\u001b[39m: It looks like you are using Playwright Sync API inside the asyncio loop.\nPlease use the Async API instead."
     ]
    }
   ],
   "source": [
    "# pip install playwright\n",
    "# python -m playwright install chromium\n",
    "import json, re, time\n",
    "from pathlib import Path\n",
    "from playwright.sync_api import sync_playwright\n",
    "\n",
    "URL = \"https://skycoach.gg/destiny-boost/products/opaque-hourglass-8613\"\n",
    "\n",
    "def sniff_product(url):\n",
    "    blobs = []\n",
    "\n",
    "    with sync_playwright() as p:\n",
    "        browser = p.chromium.launch(headless=True, args=[\"--disable-blink-features=AutomationControlled\"])\n",
    "        ctx = browser.new_context(\n",
    "            user_agent=(\"Mozilla/5.0 (Windows NT 10.0; Win64; x64) \"\n",
    "                        \"AppleWebKit/537.36 (KHTML, like Gecko) \"\n",
    "                        \"Chrome/124.0.0.0 Safari/537.36\"),\n",
    "            locale=\"en-US\",\n",
    "            timezone_id=\"Europe/London\",\n",
    "        )\n",
    "        page = ctx.new_page()\n",
    "\n",
    "        def on_response(resp):\n",
    "            try:\n",
    "                ct = resp.headers.get(\"content-type\",\"\")\n",
    "                if \"json\" in ct:\n",
    "                    j = resp.json()\n",
    "                    # Keep likely product payloads (heuristic)\n",
    "                    text = json.dumps(j).lower()\n",
    "                    if any(k in text for k in [\"variant\",\"variants\",\"options\",\"sku\",\"price\"]):\n",
    "                        blobs.append({\"url\": resp.url, \"json\": j})\n",
    "            except Exception:\n",
    "                pass\n",
    "\n",
    "        page.on(\"response\", on_response)\n",
    "        page.goto(url, wait_until=\"networkidle\", timeout=90_000)\n",
    "\n",
    "        # Also try to read any JS globals rendered into DOM\n",
    "        # Next.js / Nuxt / Redux states:\n",
    "        for expr in [\"window.__NEXT_DATA__\", \"window.__NUXT__\", \"window.__INITIAL_STATE__\", \"window.ShopifyAnalytics && window.ShopifyAnalytics.meta\"]:\n",
    "            try:\n",
    "                obj = page.evaluate(expr)\n",
    "                if obj:\n",
    "                    blobs.append({\"url\": f\"eval:{expr}\", \"json\": obj})\n",
    "            except Exception:\n",
    "                pass\n",
    "\n",
    "        # Save for inspection\n",
    "        Path(\"captures\").mkdir(exist_ok=True)\n",
    "        for i, b in enumerate(blobs):\n",
    "            Path(\"captures\", f\"payload_{i}.json\").write_text(json.dumps(b, indent=2))\n",
    "\n",
    "        browser.close()\n",
    "\n",
    "    return blobs\n",
    "\n",
    "def pick_best(blobs):\n",
    "    best = None\n",
    "    best_score = 0\n",
    "    for b in blobs:\n",
    "        text = json.dumps(b[\"json\"]).lower()\n",
    "        score = sum(text.count(k) for k in [\"variants\",\"variant\",\"option1\",\"option2\",\"sku\",\"price\",\"product\"])\n",
    "        if score > best_score:\n",
    "            best, best_score = b, score\n",
    "    return best\n",
    "\n",
    "if __name__ == \"__main__\":\n",
    "    blobs = sniff_product(URL)\n",
    "    if not blobs:\n",
    "        raise RuntimeError(\"No JSON captured.\")\n",
    "    best = pick_best(blobs)\n",
    "    print(\"Picked:\", best[\"url\"])\n",
    "    # From here, map best[\"json\"] into your schema.\n",
    "    print(json.dumps(best[\"json\"], indent=2)[:2000], \"...\\n\\nSaved all in ./captures/\")\n"
   ]
  }
 ],
 "metadata": {
  "kernelspec": {
   "display_name": "venv",
   "language": "python",
   "name": "python3"
  },
  "language_info": {
   "codemirror_mode": {
    "name": "ipython",
    "version": 3
   },
   "file_extension": ".py",
   "mimetype": "text/x-python",
   "name": "python",
   "nbconvert_exporter": "python",
   "pygments_lexer": "ipython3",
   "version": "3.11.13"
  }
 },
 "nbformat": 4,
 "nbformat_minor": 5
}
